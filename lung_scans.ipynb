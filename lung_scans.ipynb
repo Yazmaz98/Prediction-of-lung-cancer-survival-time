{
 "cells": [
  {
   "cell_type": "code",
   "execution_count": 79,
   "metadata": {},
   "outputs": [],
   "source": [
    "import numpy as np\n",
    "import pandas as pd"
   ]
  },
  {
   "cell_type": "code",
   "execution_count": 80,
   "metadata": {},
   "outputs": [],
   "source": [
    "clinical_data = pd.read_csv(\"inputs/features/clinical_data.csv\")\n",
    "radiomics = pd.read_csv(\"inputs/features/radiomics.csv\")\n",
    "\n",
    "output_train = pd.read_csv(\"y_train.csv\")"
   ]
  },
  {
   "cell_type": "code",
   "execution_count": 81,
   "metadata": {},
   "outputs": [
    {
     "data": {
      "text/html": [
       "<div>\n",
       "<style scoped>\n",
       "    .dataframe tbody tr th:only-of-type {\n",
       "        vertical-align: middle;\n",
       "    }\n",
       "\n",
       "    .dataframe tbody tr th {\n",
       "        vertical-align: top;\n",
       "    }\n",
       "\n",
       "    .dataframe thead th {\n",
       "        text-align: right;\n",
       "    }\n",
       "</style>\n",
       "<table border=\"1\" class=\"dataframe\">\n",
       "  <thead>\n",
       "    <tr style=\"text-align: right;\">\n",
       "      <th></th>\n",
       "      <th>PatientID</th>\n",
       "      <th>Histology</th>\n",
       "      <th>Mstage</th>\n",
       "      <th>Nstage</th>\n",
       "      <th>SourceDataset</th>\n",
       "      <th>Tstage</th>\n",
       "      <th>age</th>\n",
       "    </tr>\n",
       "  </thead>\n",
       "  <tbody>\n",
       "    <tr>\n",
       "      <th>0</th>\n",
       "      <td>202</td>\n",
       "      <td>Adenocarcinoma</td>\n",
       "      <td>0</td>\n",
       "      <td>0</td>\n",
       "      <td>l2</td>\n",
       "      <td>2</td>\n",
       "      <td>66.0000</td>\n",
       "    </tr>\n",
       "    <tr>\n",
       "      <th>1</th>\n",
       "      <td>371</td>\n",
       "      <td>large cell</td>\n",
       "      <td>0</td>\n",
       "      <td>2</td>\n",
       "      <td>l1</td>\n",
       "      <td>4</td>\n",
       "      <td>64.5722</td>\n",
       "    </tr>\n",
       "    <tr>\n",
       "      <th>2</th>\n",
       "      <td>246</td>\n",
       "      <td>squamous cell carcinoma</td>\n",
       "      <td>0</td>\n",
       "      <td>3</td>\n",
       "      <td>l1</td>\n",
       "      <td>2</td>\n",
       "      <td>66.0452</td>\n",
       "    </tr>\n",
       "    <tr>\n",
       "      <th>3</th>\n",
       "      <td>240</td>\n",
       "      <td>nos</td>\n",
       "      <td>0</td>\n",
       "      <td>2</td>\n",
       "      <td>l1</td>\n",
       "      <td>3</td>\n",
       "      <td>59.3566</td>\n",
       "    </tr>\n",
       "    <tr>\n",
       "      <th>4</th>\n",
       "      <td>284</td>\n",
       "      <td>squamous cell carcinoma</td>\n",
       "      <td>0</td>\n",
       "      <td>3</td>\n",
       "      <td>l1</td>\n",
       "      <td>4</td>\n",
       "      <td>71.0554</td>\n",
       "    </tr>\n",
       "    <tr>\n",
       "      <th>...</th>\n",
       "      <td>...</td>\n",
       "      <td>...</td>\n",
       "      <td>...</td>\n",
       "      <td>...</td>\n",
       "      <td>...</td>\n",
       "      <td>...</td>\n",
       "      <td>...</td>\n",
       "    </tr>\n",
       "    <tr>\n",
       "      <th>295</th>\n",
       "      <td>261</td>\n",
       "      <td>squamous cell carcinoma</td>\n",
       "      <td>0</td>\n",
       "      <td>0</td>\n",
       "      <td>l1</td>\n",
       "      <td>1</td>\n",
       "      <td>87.1266</td>\n",
       "    </tr>\n",
       "    <tr>\n",
       "      <th>296</th>\n",
       "      <td>298</td>\n",
       "      <td>squamous cell carcinoma</td>\n",
       "      <td>0</td>\n",
       "      <td>0</td>\n",
       "      <td>l1</td>\n",
       "      <td>1</td>\n",
       "      <td>NaN</td>\n",
       "    </tr>\n",
       "    <tr>\n",
       "      <th>297</th>\n",
       "      <td>129</td>\n",
       "      <td>large cell</td>\n",
       "      <td>0</td>\n",
       "      <td>1</td>\n",
       "      <td>l1</td>\n",
       "      <td>3</td>\n",
       "      <td>59.8439</td>\n",
       "    </tr>\n",
       "    <tr>\n",
       "      <th>298</th>\n",
       "      <td>273</td>\n",
       "      <td>Adenocarcinoma</td>\n",
       "      <td>0</td>\n",
       "      <td>0</td>\n",
       "      <td>l2</td>\n",
       "      <td>1</td>\n",
       "      <td>70.0000</td>\n",
       "    </tr>\n",
       "    <tr>\n",
       "      <th>299</th>\n",
       "      <td>366</td>\n",
       "      <td>large cell</td>\n",
       "      <td>0</td>\n",
       "      <td>3</td>\n",
       "      <td>l1</td>\n",
       "      <td>2</td>\n",
       "      <td>54.6940</td>\n",
       "    </tr>\n",
       "  </tbody>\n",
       "</table>\n",
       "<p>300 rows × 7 columns</p>\n",
       "</div>"
      ],
      "text/plain": [
       "     PatientID                Histology  Mstage  Nstage SourceDataset  Tstage  \\\n",
       "0          202           Adenocarcinoma       0       0            l2       2   \n",
       "1          371               large cell       0       2            l1       4   \n",
       "2          246  squamous cell carcinoma       0       3            l1       2   \n",
       "3          240                      nos       0       2            l1       3   \n",
       "4          284  squamous cell carcinoma       0       3            l1       4   \n",
       "..         ...                      ...     ...     ...           ...     ...   \n",
       "295        261  squamous cell carcinoma       0       0            l1       1   \n",
       "296        298  squamous cell carcinoma       0       0            l1       1   \n",
       "297        129               large cell       0       1            l1       3   \n",
       "298        273           Adenocarcinoma       0       0            l2       1   \n",
       "299        366               large cell       0       3            l1       2   \n",
       "\n",
       "         age  \n",
       "0    66.0000  \n",
       "1    64.5722  \n",
       "2    66.0452  \n",
       "3    59.3566  \n",
       "4    71.0554  \n",
       "..       ...  \n",
       "295  87.1266  \n",
       "296      NaN  \n",
       "297  59.8439  \n",
       "298  70.0000  \n",
       "299  54.6940  \n",
       "\n",
       "[300 rows x 7 columns]"
      ]
     },
     "execution_count": 81,
     "metadata": {},
     "output_type": "execute_result"
    }
   ],
   "source": [
    "clinical_data"
   ]
  },
  {
   "cell_type": "code",
   "execution_count": 82,
   "metadata": {},
   "outputs": [
    {
     "data": {
      "text/plain": [
       "Index(['Unnamed: 0', 'shape', 'shape.1', 'shape.2', 'shape.3', 'shape.4',\n",
       "       'shape.5', 'shape.6', 'shape.7', 'firstorder', 'firstorder.1',\n",
       "       'firstorder.2', 'firstorder.3', 'firstorder.4', 'firstorder.5',\n",
       "       'firstorder.6', 'firstorder.7', 'firstorder.8', 'firstorder.9',\n",
       "       'firstorder.10', 'firstorder.11', 'firstorder.12', 'firstorder.13',\n",
       "       'textural', 'textural.1', 'textural.2', 'textural.3', 'textural.4',\n",
       "       'textural.5', 'textural.6', 'textural.7', 'textural.8', 'textural.9',\n",
       "       'textural.10', 'textural.11', 'textural.12', 'textural.13',\n",
       "       'textural.14', 'textural.15', 'textural.16', 'textural.17',\n",
       "       'textural.18', 'textural.19', 'textural.20', 'textural.21',\n",
       "       'textural.22', 'textural.23', 'textural.24', 'textural.25',\n",
       "       'textural.26', 'textural.27', 'textural.28', 'textural.29',\n",
       "       'textural.30'],\n",
       "      dtype='object')"
      ]
     },
     "execution_count": 82,
     "metadata": {},
     "output_type": "execute_result"
    }
   ],
   "source": [
    "radiomics.columns"
   ]
  },
  {
   "cell_type": "code",
   "execution_count": 83,
   "metadata": {},
   "outputs": [
    {
     "data": {
      "text/html": [
       "<div>\n",
       "<style scoped>\n",
       "    .dataframe tbody tr th:only-of-type {\n",
       "        vertical-align: middle;\n",
       "    }\n",
       "\n",
       "    .dataframe tbody tr th {\n",
       "        vertical-align: top;\n",
       "    }\n",
       "\n",
       "    .dataframe thead th {\n",
       "        text-align: right;\n",
       "    }\n",
       "</style>\n",
       "<table border=\"1\" class=\"dataframe\">\n",
       "  <thead>\n",
       "    <tr style=\"text-align: right;\">\n",
       "      <th></th>\n",
       "      <th>Unnamed: 0</th>\n",
       "      <th>shape</th>\n",
       "      <th>shape.1</th>\n",
       "      <th>shape.2</th>\n",
       "      <th>shape.3</th>\n",
       "      <th>shape.4</th>\n",
       "      <th>shape.5</th>\n",
       "      <th>shape.6</th>\n",
       "      <th>shape.7</th>\n",
       "      <th>firstorder</th>\n",
       "      <th>...</th>\n",
       "      <th>textural.21</th>\n",
       "      <th>textural.22</th>\n",
       "      <th>textural.23</th>\n",
       "      <th>textural.24</th>\n",
       "      <th>textural.25</th>\n",
       "      <th>textural.26</th>\n",
       "      <th>textural.27</th>\n",
       "      <th>textural.28</th>\n",
       "      <th>textural.29</th>\n",
       "      <th>textural.30</th>\n",
       "    </tr>\n",
       "  </thead>\n",
       "  <tbody>\n",
       "    <tr>\n",
       "      <th>0</th>\n",
       "      <td>NaN</td>\n",
       "      <td>original_shape_Compactness1</td>\n",
       "      <td>original_shape_Compactness2</td>\n",
       "      <td>original_shape_Maximum3DDiameter</td>\n",
       "      <td>original_shape_SphericalDisproportion</td>\n",
       "      <td>original_shape_Sphericity</td>\n",
       "      <td>original_shape_SurfaceArea</td>\n",
       "      <td>original_shape_SurfaceVolumeRatio</td>\n",
       "      <td>original_shape_VoxelVolume</td>\n",
       "      <td>original_firstorder_Energy</td>\n",
       "      <td>...</td>\n",
       "      <td>original_glrlm_LongRunEmphasis</td>\n",
       "      <td>original_glrlm_GrayLevelNonUniformity</td>\n",
       "      <td>original_glrlm_RunLengthNonUniformity</td>\n",
       "      <td>original_glrlm_RunPercentage</td>\n",
       "      <td>original_glrlm_LowGrayLevelRunEmphasis</td>\n",
       "      <td>original_glrlm_HighGrayLevelRunEmphasis</td>\n",
       "      <td>original_glrlm_ShortRunLowGrayLevelEmphasis</td>\n",
       "      <td>original_glrlm_ShortRunHighGrayLevelEmphasis</td>\n",
       "      <td>original_glrlm_LongRunLowGrayLevelEmphasis</td>\n",
       "      <td>original_glrlm_LongRunHighGrayLevelEmphasis</td>\n",
       "    </tr>\n",
       "    <tr>\n",
       "      <th>1</th>\n",
       "      <td>PatientID</td>\n",
       "      <td>NaN</td>\n",
       "      <td>NaN</td>\n",
       "      <td>NaN</td>\n",
       "      <td>NaN</td>\n",
       "      <td>NaN</td>\n",
       "      <td>NaN</td>\n",
       "      <td>NaN</td>\n",
       "      <td>NaN</td>\n",
       "      <td>NaN</td>\n",
       "      <td>...</td>\n",
       "      <td>NaN</td>\n",
       "      <td>NaN</td>\n",
       "      <td>NaN</td>\n",
       "      <td>NaN</td>\n",
       "      <td>NaN</td>\n",
       "      <td>NaN</td>\n",
       "      <td>NaN</td>\n",
       "      <td>NaN</td>\n",
       "      <td>NaN</td>\n",
       "      <td>NaN</td>\n",
       "    </tr>\n",
       "    <tr>\n",
       "      <th>2</th>\n",
       "      <td>202</td>\n",
       "      <td>0.027815034276150445</td>\n",
       "      <td>0.274891584789629</td>\n",
       "      <td>48.55924216871593</td>\n",
       "      <td>1.5379640537333283</td>\n",
       "      <td>0.650210255286885</td>\n",
       "      <td>5431.333209994288</td>\n",
       "      <td>0.2752277631406584</td>\n",
       "      <td>19786.0</td>\n",
       "      <td>3942944085.0</td>\n",
       "      <td>...</td>\n",
       "      <td>1.4579804820599591</td>\n",
       "      <td>555.3785937091678</td>\n",
       "      <td>14592.30372702833</td>\n",
       "      <td>0.8913295337029291</td>\n",
       "      <td>0.003561530161295479</td>\n",
       "      <td>954.7491354587909</td>\n",
       "      <td>0.00338435209269195</td>\n",
       "      <td>851.9873727726894</td>\n",
       "      <td>0.0044435855454578775</td>\n",
       "      <td>1651.7107610742885</td>\n",
       "    </tr>\n",
       "    <tr>\n",
       "      <th>3</th>\n",
       "      <td>371</td>\n",
       "      <td>0.023015490265467994</td>\n",
       "      <td>0.18821000537331142</td>\n",
       "      <td>75.70336848516055</td>\n",
       "      <td>1.744961158341729</td>\n",
       "      <td>0.5730786586392099</td>\n",
       "      <td>10369.568728926952</td>\n",
       "      <td>0.240726823947402</td>\n",
       "      <td>43168.0</td>\n",
       "      <td>3122890068.0</td>\n",
       "      <td>...</td>\n",
       "      <td>2.5121246601768097</td>\n",
       "      <td>1766.6193730958223</td>\n",
       "      <td>22881.93268598017</td>\n",
       "      <td>0.7660321748303586</td>\n",
       "      <td>0.002246203831804831</td>\n",
       "      <td>1092.8237238353574</td>\n",
       "      <td>0.0020694221485567173</td>\n",
       "      <td>884.838627165461</td>\n",
       "      <td>0.0036327469226913886</td>\n",
       "      <td>3386.995589481547</td>\n",
       "    </tr>\n",
       "    <tr>\n",
       "      <th>4</th>\n",
       "      <td>246</td>\n",
       "      <td>0.02734810613893409</td>\n",
       "      <td>0.26573989535056836</td>\n",
       "      <td>70.43436661176133</td>\n",
       "      <td>1.5554202430337098</td>\n",
       "      <td>0.6429130676926181</td>\n",
       "      <td>10558.818691399667</td>\n",
       "      <td>0.20076598812381322</td>\n",
       "      <td>52655.0</td>\n",
       "      <td>1059535256.0</td>\n",
       "      <td>...</td>\n",
       "      <td>4.096837887896892</td>\n",
       "      <td>3462.816343789217</td>\n",
       "      <td>18773.106002343673</td>\n",
       "      <td>0.6445541733928403</td>\n",
       "      <td>0.0018803220646738058</td>\n",
       "      <td>878.9896008279054</td>\n",
       "      <td>0.0016345955500716887</td>\n",
       "      <td>634.9100359203011</td>\n",
       "      <td>0.00486911711499068</td>\n",
       "      <td>4232.41808034498</td>\n",
       "    </tr>\n",
       "    <tr>\n",
       "      <th>...</th>\n",
       "      <td>...</td>\n",
       "      <td>...</td>\n",
       "      <td>...</td>\n",
       "      <td>...</td>\n",
       "      <td>...</td>\n",
       "      <td>...</td>\n",
       "      <td>...</td>\n",
       "      <td>...</td>\n",
       "      <td>...</td>\n",
       "      <td>...</td>\n",
       "      <td>...</td>\n",
       "      <td>...</td>\n",
       "      <td>...</td>\n",
       "      <td>...</td>\n",
       "      <td>...</td>\n",
       "      <td>...</td>\n",
       "      <td>...</td>\n",
       "      <td>...</td>\n",
       "      <td>...</td>\n",
       "      <td>...</td>\n",
       "      <td>...</td>\n",
       "    </tr>\n",
       "    <tr>\n",
       "      <th>297</th>\n",
       "      <td>261</td>\n",
       "      <td>0.03575188711388587</td>\n",
       "      <td>0.45415090808431535</td>\n",
       "      <td>36.61966684720111</td>\n",
       "      <td>1.3009679701731398</td>\n",
       "      <td>0.7686584319727061</td>\n",
       "      <td>3143.9726790843724</td>\n",
       "      <td>0.2814405764107396</td>\n",
       "      <td>11204.0</td>\n",
       "      <td>1299545944.0</td>\n",
       "      <td>...</td>\n",
       "      <td>2.1267453161798318</td>\n",
       "      <td>336.5736217607421</td>\n",
       "      <td>6761.904880588389</td>\n",
       "      <td>0.8071567846648176</td>\n",
       "      <td>0.0030263471540989176</td>\n",
       "      <td>791.2955059720019</td>\n",
       "      <td>0.002828847859846127</td>\n",
       "      <td>659.1032797198598</td>\n",
       "      <td>0.0044000796957435195</td>\n",
       "      <td>2243.6893178491055</td>\n",
       "    </tr>\n",
       "    <tr>\n",
       "      <th>298</th>\n",
       "      <td>298</td>\n",
       "      <td>0.011765215791089918</td>\n",
       "      <td>0.049181530602555854</td>\n",
       "      <td>122.53162856993292</td>\n",
       "      <td>2.7293924539047882</td>\n",
       "      <td>0.366381902525361</td>\n",
       "      <td>20785.949532147188</td>\n",
       "      <td>0.33261377571233763</td>\n",
       "      <td>62744.0</td>\n",
       "      <td>395285569.0</td>\n",
       "      <td>...</td>\n",
       "      <td>4.405808671502962</td>\n",
       "      <td>7158.438787435351</td>\n",
       "      <td>18591.140070820802</td>\n",
       "      <td>0.6133359978030384</td>\n",
       "      <td>0.0010222643954205016</td>\n",
       "      <td>1592.1900508318274</td>\n",
       "      <td>0.0008124873030212564</td>\n",
       "      <td>1123.462319898394</td>\n",
       "      <td>0.003265340148316901</td>\n",
       "      <td>7145.459719145346</td>\n",
       "    </tr>\n",
       "    <tr>\n",
       "      <th>299</th>\n",
       "      <td>129</td>\n",
       "      <td>0.02566821368023103</td>\n",
       "      <td>0.23409575485173154</td>\n",
       "      <td>64.87680633323437</td>\n",
       "      <td>1.6225651878273755</td>\n",
       "      <td>0.6163080580688447</td>\n",
       "      <td>9571.675019754168</td>\n",
       "      <td>0.224665013016222</td>\n",
       "      <td>42663.0</td>\n",
       "      <td>122782699.0</td>\n",
       "      <td>...</td>\n",
       "      <td>7.254938625898857</td>\n",
       "      <td>4513.100699296329</td>\n",
       "      <td>8467.466888384817</td>\n",
       "      <td>0.511172534658928</td>\n",
       "      <td>0.001134970199763957</td>\n",
       "      <td>1030.1979529954301</td>\n",
       "      <td>0.0007836233063791739</td>\n",
       "      <td>637.7185435233446</td>\n",
       "      <td>0.00698335929515609</td>\n",
       "      <td>7752.5995085659315</td>\n",
       "    </tr>\n",
       "    <tr>\n",
       "      <th>300</th>\n",
       "      <td>273</td>\n",
       "      <td>0.032517473207570785</td>\n",
       "      <td>0.37569535736332355</td>\n",
       "      <td>22.47220505424423</td>\n",
       "      <td>1.3858664798722369</td>\n",
       "      <td>0.7215702338743268</td>\n",
       "      <td>820.2763699826999</td>\n",
       "      <td>0.6057984699998399</td>\n",
       "      <td>1377.0</td>\n",
       "      <td>425358564.0</td>\n",
       "      <td>...</td>\n",
       "      <td>1.2311488388284484</td>\n",
       "      <td>40.14012424787426</td>\n",
       "      <td>1137.721789971685</td>\n",
       "      <td>0.9344729344729346</td>\n",
       "      <td>0.013536519694682055</td>\n",
       "      <td>525.6828294688723</td>\n",
       "      <td>0.012984101326838195</td>\n",
       "      <td>486.59883351270753</td>\n",
       "      <td>0.016086073572940784</td>\n",
       "      <td>726.9455636570698</td>\n",
       "    </tr>\n",
       "    <tr>\n",
       "      <th>301</th>\n",
       "      <td>366</td>\n",
       "      <td>0.03129440228139535</td>\n",
       "      <td>0.3479650043750656</td>\n",
       "      <td>67.54257916307313</td>\n",
       "      <td>1.4217442394553843</td>\n",
       "      <td>0.7033613868434323</td>\n",
       "      <td>9620.491997066627</td>\n",
       "      <td>0.18380603272134052</td>\n",
       "      <td>52399.0</td>\n",
       "      <td>2762240540.0</td>\n",
       "      <td>...</td>\n",
       "      <td>2.0857912196371484</td>\n",
       "      <td>2982.1094964320296</td>\n",
       "      <td>29229.00191763897</td>\n",
       "      <td>0.7977324875548123</td>\n",
       "      <td>0.0012723624987999555</td>\n",
       "      <td>1258.9940437955836</td>\n",
       "      <td>0.0011480384228083318</td>\n",
       "      <td>1046.8299510807908</td>\n",
       "      <td>0.0021279595549645028</td>\n",
       "      <td>2947.807967632687</td>\n",
       "    </tr>\n",
       "  </tbody>\n",
       "</table>\n",
       "<p>302 rows × 54 columns</p>\n",
       "</div>"
      ],
      "text/plain": [
       "    Unnamed: 0                        shape                      shape.1  \\\n",
       "0          NaN  original_shape_Compactness1  original_shape_Compactness2   \n",
       "1    PatientID                          NaN                          NaN   \n",
       "2          202         0.027815034276150445            0.274891584789629   \n",
       "3          371         0.023015490265467994          0.18821000537331142   \n",
       "4          246          0.02734810613893409          0.26573989535056836   \n",
       "..         ...                          ...                          ...   \n",
       "297        261          0.03575188711388587          0.45415090808431535   \n",
       "298        298         0.011765215791089918         0.049181530602555854   \n",
       "299        129          0.02566821368023103          0.23409575485173154   \n",
       "300        273         0.032517473207570785          0.37569535736332355   \n",
       "301        366          0.03129440228139535           0.3479650043750656   \n",
       "\n",
       "                              shape.2                                shape.3  \\\n",
       "0    original_shape_Maximum3DDiameter  original_shape_SphericalDisproportion   \n",
       "1                                 NaN                                    NaN   \n",
       "2                   48.55924216871593                     1.5379640537333283   \n",
       "3                   75.70336848516055                      1.744961158341729   \n",
       "4                   70.43436661176133                     1.5554202430337098   \n",
       "..                                ...                                    ...   \n",
       "297                 36.61966684720111                     1.3009679701731398   \n",
       "298                122.53162856993292                     2.7293924539047882   \n",
       "299                 64.87680633323437                     1.6225651878273755   \n",
       "300                 22.47220505424423                     1.3858664798722369   \n",
       "301                 67.54257916307313                     1.4217442394553843   \n",
       "\n",
       "                       shape.4                     shape.5  \\\n",
       "0    original_shape_Sphericity  original_shape_SurfaceArea   \n",
       "1                          NaN                         NaN   \n",
       "2            0.650210255286885           5431.333209994288   \n",
       "3           0.5730786586392099          10369.568728926952   \n",
       "4           0.6429130676926181          10558.818691399667   \n",
       "..                         ...                         ...   \n",
       "297         0.7686584319727061          3143.9726790843724   \n",
       "298          0.366381902525361          20785.949532147188   \n",
       "299         0.6163080580688447           9571.675019754168   \n",
       "300         0.7215702338743268           820.2763699826999   \n",
       "301         0.7033613868434323           9620.491997066627   \n",
       "\n",
       "                               shape.6                     shape.7  \\\n",
       "0    original_shape_SurfaceVolumeRatio  original_shape_VoxelVolume   \n",
       "1                                  NaN                         NaN   \n",
       "2                   0.2752277631406584                     19786.0   \n",
       "3                    0.240726823947402                     43168.0   \n",
       "4                  0.20076598812381322                     52655.0   \n",
       "..                                 ...                         ...   \n",
       "297                 0.2814405764107396                     11204.0   \n",
       "298                0.33261377571233763                     62744.0   \n",
       "299                  0.224665013016222                     42663.0   \n",
       "300                 0.6057984699998399                      1377.0   \n",
       "301                0.18380603272134052                     52399.0   \n",
       "\n",
       "                     firstorder  ...                     textural.21  \\\n",
       "0    original_firstorder_Energy  ...  original_glrlm_LongRunEmphasis   \n",
       "1                           NaN  ...                             NaN   \n",
       "2                  3942944085.0  ...              1.4579804820599591   \n",
       "3                  3122890068.0  ...              2.5121246601768097   \n",
       "4                  1059535256.0  ...               4.096837887896892   \n",
       "..                          ...  ...                             ...   \n",
       "297                1299545944.0  ...              2.1267453161798318   \n",
       "298                 395285569.0  ...               4.405808671502962   \n",
       "299                 122782699.0  ...               7.254938625898857   \n",
       "300                 425358564.0  ...              1.2311488388284484   \n",
       "301                2762240540.0  ...              2.0857912196371484   \n",
       "\n",
       "                               textural.22  \\\n",
       "0    original_glrlm_GrayLevelNonUniformity   \n",
       "1                                      NaN   \n",
       "2                        555.3785937091678   \n",
       "3                       1766.6193730958223   \n",
       "4                        3462.816343789217   \n",
       "..                                     ...   \n",
       "297                      336.5736217607421   \n",
       "298                      7158.438787435351   \n",
       "299                      4513.100699296329   \n",
       "300                      40.14012424787426   \n",
       "301                     2982.1094964320296   \n",
       "\n",
       "                               textural.23                   textural.24  \\\n",
       "0    original_glrlm_RunLengthNonUniformity  original_glrlm_RunPercentage   \n",
       "1                                      NaN                           NaN   \n",
       "2                        14592.30372702833            0.8913295337029291   \n",
       "3                        22881.93268598017            0.7660321748303586   \n",
       "4                       18773.106002343673            0.6445541733928403   \n",
       "..                                     ...                           ...   \n",
       "297                      6761.904880588389            0.8071567846648176   \n",
       "298                     18591.140070820802            0.6133359978030384   \n",
       "299                      8467.466888384817             0.511172534658928   \n",
       "300                      1137.721789971685            0.9344729344729346   \n",
       "301                      29229.00191763897            0.7977324875548123   \n",
       "\n",
       "                                textural.25  \\\n",
       "0    original_glrlm_LowGrayLevelRunEmphasis   \n",
       "1                                       NaN   \n",
       "2                      0.003561530161295479   \n",
       "3                      0.002246203831804831   \n",
       "4                     0.0018803220646738058   \n",
       "..                                      ...   \n",
       "297                   0.0030263471540989176   \n",
       "298                   0.0010222643954205016   \n",
       "299                    0.001134970199763957   \n",
       "300                    0.013536519694682055   \n",
       "301                   0.0012723624987999555   \n",
       "\n",
       "                                 textural.26  \\\n",
       "0    original_glrlm_HighGrayLevelRunEmphasis   \n",
       "1                                        NaN   \n",
       "2                          954.7491354587909   \n",
       "3                         1092.8237238353574   \n",
       "4                          878.9896008279054   \n",
       "..                                       ...   \n",
       "297                        791.2955059720019   \n",
       "298                       1592.1900508318274   \n",
       "299                       1030.1979529954301   \n",
       "300                        525.6828294688723   \n",
       "301                       1258.9940437955836   \n",
       "\n",
       "                                     textural.27  \\\n",
       "0    original_glrlm_ShortRunLowGrayLevelEmphasis   \n",
       "1                                            NaN   \n",
       "2                            0.00338435209269195   \n",
       "3                          0.0020694221485567173   \n",
       "4                          0.0016345955500716887   \n",
       "..                                           ...   \n",
       "297                         0.002828847859846127   \n",
       "298                        0.0008124873030212564   \n",
       "299                        0.0007836233063791739   \n",
       "300                         0.012984101326838195   \n",
       "301                        0.0011480384228083318   \n",
       "\n",
       "                                      textural.28  \\\n",
       "0    original_glrlm_ShortRunHighGrayLevelEmphasis   \n",
       "1                                             NaN   \n",
       "2                               851.9873727726894   \n",
       "3                                884.838627165461   \n",
       "4                               634.9100359203011   \n",
       "..                                            ...   \n",
       "297                             659.1032797198598   \n",
       "298                             1123.462319898394   \n",
       "299                             637.7185435233446   \n",
       "300                            486.59883351270753   \n",
       "301                            1046.8299510807908   \n",
       "\n",
       "                                    textural.29  \\\n",
       "0    original_glrlm_LongRunLowGrayLevelEmphasis   \n",
       "1                                           NaN   \n",
       "2                         0.0044435855454578775   \n",
       "3                         0.0036327469226913886   \n",
       "4                           0.00486911711499068   \n",
       "..                                          ...   \n",
       "297                       0.0044000796957435195   \n",
       "298                        0.003265340148316901   \n",
       "299                         0.00698335929515609   \n",
       "300                        0.016086073572940784   \n",
       "301                       0.0021279595549645028   \n",
       "\n",
       "                                     textural.30  \n",
       "0    original_glrlm_LongRunHighGrayLevelEmphasis  \n",
       "1                                            NaN  \n",
       "2                             1651.7107610742885  \n",
       "3                              3386.995589481547  \n",
       "4                               4232.41808034498  \n",
       "..                                           ...  \n",
       "297                           2243.6893178491055  \n",
       "298                            7145.459719145346  \n",
       "299                           7752.5995085659315  \n",
       "300                            726.9455636570698  \n",
       "301                            2947.807967632687  \n",
       "\n",
       "[302 rows x 54 columns]"
      ]
     },
     "execution_count": 83,
     "metadata": {},
     "output_type": "execute_result"
    }
   ],
   "source": [
    "radiomics"
   ]
  },
  {
   "cell_type": "code",
   "execution_count": 84,
   "metadata": {},
   "outputs": [],
   "source": [
    "archive = np.load('inputs/images/patient_003.npz')\n",
    "scan = archive['scan']\n",
    "mask = archive['mask']"
   ]
  },
  {
   "cell_type": "code",
   "execution_count": 85,
   "metadata": {},
   "outputs": [
    {
     "data": {
      "text/plain": [
       "(92, 92, 92)"
      ]
     },
     "execution_count": 85,
     "metadata": {},
     "output_type": "execute_result"
    }
   ],
   "source": [
    "#print(scan)\n",
    "scan.shape"
   ]
  },
  {
   "cell_type": "code",
   "execution_count": 86,
   "metadata": {},
   "outputs": [
    {
     "data": {
      "text/plain": [
       "(92, 92)"
      ]
     },
     "execution_count": 86,
     "metadata": {},
     "output_type": "execute_result"
    }
   ],
   "source": [
    "sliced_scan = scan[:,:,4]\n",
    "sliced_scan = np.squeeze(sliced_scan)\n",
    "sliced_scan.shape"
   ]
  },
  {
   "cell_type": "code",
   "execution_count": 87,
   "metadata": {},
   "outputs": [
    {
     "data": {
      "image/png": "[encoded data removed]",
      "text/plain": [
       "<Figure size 432x288 with 1 Axes>"
      ]
     },
     "metadata": {
      "needs_background": "light"
     },
     "output_type": "display_data"
    },
    {
     "data": {
      "text/plain": [
       "<Figure size 360x360 with 0 Axes>"
      ]
     },
     "metadata": {},
     "output_type": "display_data"
    }
   ],
   "source": [
    "import matplotlib.pyplot as plt\n",
    "\n",
    "plt.imshow(sliced_scan)\n",
    "plt.figure(figsize=(5,5))\n",
    "plt.show()"
   ]
  },
  {
   "cell_type": "code",
   "execution_count": 88,
   "metadata": {},
   "outputs": [
    {
     "data": {
      "text/plain": [
       "(92, 92, 92, 1)"
      ]
     },
     "execution_count": 88,
     "metadata": {},
     "output_type": "execute_result"
    }
   ],
   "source": [
    "np.expand_dims(scan,-1).shape"
   ]
  },
  {
   "cell_type": "code",
   "execution_count": 89,
   "metadata": {},
   "outputs": [
    {
     "data": {
      "image/png": "[encoded data removed]",
      "text/plain": [
       "<Figure size 432x288 with 1 Axes>"
      ]
     },
     "metadata": {
      "needs_background": "light"
     },
     "output_type": "display_data"
    },
    {
     "data": {
      "text/plain": [
       "<Figure size 360x360 with 0 Axes>"
      ]
     },
     "metadata": {},
     "output_type": "display_data"
    }
   ],
   "source": [
    "plt.imshow(scan.sum(axis=1))\n",
    "plt.figure(figsize=(5,5))\n",
    "plt.show()"
   ]
  },
  {
   "cell_type": "code",
   "execution_count": 90,
   "metadata": {},
   "outputs": [
    {
     "data": {
      "text/plain": [
       "(92, 92)"
      ]
     },
     "execution_count": 90,
     "metadata": {},
     "output_type": "execute_result"
    }
   ],
   "source": [
    "scan.sum(axis=1).shape"
   ]
  },
  {
   "cell_type": "code",
   "execution_count": 91,
   "metadata": {},
   "outputs": [
    {
     "data": {
      "text/plain": [
       "(778688,)"
      ]
     },
     "execution_count": 91,
     "metadata": {},
     "output_type": "execute_result"
    }
   ],
   "source": [
    "scan.flatten().shape"
   ]
  },
  {
   "cell_type": "code",
   "execution_count": 92,
   "metadata": {},
   "outputs": [
    {
     "data": {
      "text/plain": [
       "300"
      ]
     },
     "execution_count": 92,
     "metadata": {},
     "output_type": "execute_result"
    }
   ],
   "source": [
    "from os import listdir\n",
    "from os.path import isfile, join\n",
    "\n",
    "mypath = 'inputs/images'\n",
    "onlyfiles = [f for f in listdir(mypath) if isfile(join(mypath, f))]\n",
    "len(onlyfiles)"
   ]
  },
  {
   "cell_type": "code",
   "execution_count": 93,
   "metadata": {},
   "outputs": [],
   "source": [
    "images_arrays = []\n",
    "\n",
    "for i in range(len(onlyfiles)):\n",
    "    archive = np.load(f'inputs/images/{onlyfiles[i]}')\n",
    "    scan = archive['scan']\n",
    "    scan = scan.flatten()\n",
    "    #mask = archive['mask']\n",
    "    images_arrays.append(scan)"
   ]
  },
  {
   "cell_type": "code",
   "execution_count": 94,
   "metadata": {},
   "outputs": [
    {
     "data": {
      "text/plain": [
       "(778688,)"
      ]
     },
     "execution_count": 94,
     "metadata": {},
     "output_type": "execute_result"
    }
   ],
   "source": [
    "images_arrays[0].shape"
   ]
  },
  {
   "cell_type": "code",
   "execution_count": 95,
   "metadata": {},
   "outputs": [
    {
     "data": {
      "text/plain": [
       "(300, 778688)"
      ]
     },
     "execution_count": 95,
     "metadata": {},
     "output_type": "execute_result"
    }
   ],
   "source": [
    "np.array(images_arrays).shape"
   ]
  },
  {
   "cell_type": "markdown",
   "metadata": {},
   "source": [
    "## linear regression on all 800k components"
   ]
  },
  {
   "cell_type": "code",
   "execution_count": 96,
   "metadata": {},
   "outputs": [],
   "source": [
    "output_train\n",
    "y_train = output_train.SurvivalTime"
   ]
  },
  {
   "cell_type": "code",
   "execution_count": 97,
   "metadata": {},
   "outputs": [
    {
     "data": {
      "text/plain": [
       "0      1378\n",
       "1       379\n",
       "2       573\n",
       "3       959\n",
       "4      2119\n",
       "       ... \n",
       "295    1540\n",
       "296     946\n",
       "297     559\n",
       "298    1952\n",
       "299     858\n",
       "Name: SurvivalTime, Length: 300, dtype: int64"
      ]
     },
     "execution_count": 97,
     "metadata": {},
     "output_type": "execute_result"
    }
   ],
   "source": [
    "y_train"
   ]
  },
  {
   "cell_type": "code",
   "execution_count": 98,
   "metadata": {},
   "outputs": [],
   "source": [
    "from sklearn.model_selection import train_test_split\n",
    "\n",
    "\n",
    "X_train, X_valid, y_train, y_valid = train_test_split(images_arrays, y_train, test_size=0.3, random_state=3)"
   ]
  },
  {
   "cell_type": "code",
   "execution_count": 99,
   "metadata": {},
   "outputs": [
    {
     "name": "stdout",
     "output_type": "stream",
     "text": [
      "Training set R2 score : 1.0\n",
      "Training set R2 score : -0.4944509338218883\n"
     ]
    }
   ],
   "source": [
    "from sklearn.linear_model import LinearRegression\n",
    "\n",
    "reg = LinearRegression().fit(X_train, y_train)\n",
    "print(f\"Training set R2 score : {reg.score(X_train, y_train)}\")\n",
    "print(f\"Training set R2 score : {reg.score(X_valid, y_valid)}\")"
   ]
  },
  {
   "cell_type": "code",
   "execution_count": 100,
   "metadata": {},
   "outputs": [
    {
     "data": {
      "text/plain": [
       "-1.8786086842842087"
      ]
     },
     "execution_count": 100,
     "metadata": {},
     "output_type": "execute_result"
    }
   ],
   "source": [
    "from sklearn.metrics import r2_score\n",
    "\n",
    "y_pred = reg.predict(X_valid)\n",
    "r2_score(y_pred, y_valid)"
   ]
  },
  {
   "cell_type": "code",
   "execution_count": 101,
   "metadata": {},
   "outputs": [
    {
     "name": "stdout",
     "output_type": "stream",
     "text": [
      "RMSE on Validation set : 814.9320872309819\n"
     ]
    }
   ],
   "source": [
    "ytrain_pred = reg.predict(X_train)\n",
    "\n",
    "print(f'RMSE on Training set : {np.sqrt(np.mean((ytrain_pred - y_train)**2))}')\n",
    "print(f'RMSE on Validation set : {np.sqrt(np.mean((y_pred - y_valid)**2))}')"
   ]
  },
  {
   "cell_type": "code",
   "execution_count": 102,
   "metadata": {},
   "outputs": [
    {
     "data": {
      "text/html": [
       "<div>\n",
       "<style scoped>\n",
       "    .dataframe tbody tr th:only-of-type {\n",
       "        vertical-align: middle;\n",
       "    }\n",
       "\n",
       "    .dataframe tbody tr th {\n",
       "        vertical-align: top;\n",
       "    }\n",
       "\n",
       "    .dataframe thead th {\n",
       "        text-align: right;\n",
       "    }\n",
       "</style>\n",
       "<table border=\"1\" class=\"dataframe\">\n",
       "  <thead>\n",
       "    <tr style=\"text-align: right;\">\n",
       "      <th></th>\n",
       "      <th>actual</th>\n",
       "      <th>predicted</th>\n",
       "    </tr>\n",
       "  </thead>\n",
       "  <tbody>\n",
       "    <tr>\n",
       "      <th>84</th>\n",
       "      <td>1280</td>\n",
       "      <td>665.606585</td>\n",
       "    </tr>\n",
       "    <tr>\n",
       "      <th>217</th>\n",
       "      <td>2240</td>\n",
       "      <td>1776.822938</td>\n",
       "    </tr>\n",
       "    <tr>\n",
       "      <th>211</th>\n",
       "      <td>618</td>\n",
       "      <td>1364.362870</td>\n",
       "    </tr>\n",
       "    <tr>\n",
       "      <th>286</th>\n",
       "      <td>1456</td>\n",
       "      <td>1009.412810</td>\n",
       "    </tr>\n",
       "    <tr>\n",
       "      <th>31</th>\n",
       "      <td>582</td>\n",
       "      <td>1008.534649</td>\n",
       "    </tr>\n",
       "    <tr>\n",
       "      <th>...</th>\n",
       "      <td>...</td>\n",
       "      <td>...</td>\n",
       "    </tr>\n",
       "    <tr>\n",
       "      <th>198</th>\n",
       "      <td>161</td>\n",
       "      <td>579.489568</td>\n",
       "    </tr>\n",
       "    <tr>\n",
       "      <th>246</th>\n",
       "      <td>799</td>\n",
       "      <td>1518.400231</td>\n",
       "    </tr>\n",
       "    <tr>\n",
       "      <th>292</th>\n",
       "      <td>2212</td>\n",
       "      <td>915.773106</td>\n",
       "    </tr>\n",
       "    <tr>\n",
       "      <th>101</th>\n",
       "      <td>456</td>\n",
       "      <td>1307.820574</td>\n",
       "    </tr>\n",
       "    <tr>\n",
       "      <th>162</th>\n",
       "      <td>2176</td>\n",
       "      <td>1769.670927</td>\n",
       "    </tr>\n",
       "  </tbody>\n",
       "</table>\n",
       "<p>90 rows × 2 columns</p>\n",
       "</div>"
      ],
      "text/plain": [
       "     actual    predicted\n",
       "84     1280   665.606585\n",
       "217    2240  1776.822938\n",
       "211     618  1364.362870\n",
       "286    1456  1009.412810\n",
       "31      582  1008.534649\n",
       "..      ...          ...\n",
       "198     161   579.489568\n",
       "246     799  1518.400231\n",
       "292    2212   915.773106\n",
       "101     456  1307.820574\n",
       "162    2176  1769.670927\n",
       "\n",
       "[90 rows x 2 columns]"
      ]
     },
     "execution_count": 102,
     "metadata": {},
     "output_type": "execute_result"
    }
   ],
   "source": [
    "data = {'actual':y_valid, 'predicted':y_pred}\n",
    "pd.DataFrame(data=data, columns = ['actual','predicted'])"
   ]
  },
  {
   "cell_type": "markdown",
   "metadata": {},
   "source": [
    "## PCA"
   ]
  },
  {
   "cell_type": "code",
   "execution_count": 103,
   "metadata": {},
   "outputs": [
    {
     "name": "stdout",
     "output_type": "stream",
     "text": [
      "observations centrees reduites :  [[-1.3137082  -0.91478084 -0.21169559 ...  0.25329497  0.21390169\n",
      "   0.24103344]\n",
      " [-1.59848174 -1.62538465 -1.60907031 ... -2.08269375 -2.1225788\n",
      "  -2.16190201]\n",
      " [-1.66202625 -1.68185647 -1.6420606  ... -1.8722209  -1.93907204\n",
      "  -1.92702862]\n",
      " ...\n",
      " [ 0.67499959  0.66172431  0.65076502 ...  0.36502747  0.3431318\n",
      "   0.34685552]\n",
      " [-1.41961571 -1.43479223 -1.45354462 ... -1.81245701 -1.86670317\n",
      "  -1.90379939]\n",
      " [-1.61966324 -1.62773764 -1.63263481 ... -1.47985795 -1.39630555\n",
      "  -1.31016335]]\n"
     ]
    }
   ],
   "source": [
    "from sklearn.preprocessing import StandardScaler\n",
    "\n",
    "images_arrays = StandardScaler().fit_transform(images_arrays)\n",
    "print(\"observations centrees reduites : \",images_arrays)"
   ]
  },
  {
   "cell_type": "code",
   "execution_count": 104,
   "metadata": {},
   "outputs": [
    {
     "data": {
      "text/plain": [
       "(300, 778688)"
      ]
     },
     "execution_count": 104,
     "metadata": {},
     "output_type": "execute_result"
    }
   ],
   "source": [
    "images_arrays.shape"
   ]
  },
  {
   "cell_type": "code",
   "execution_count": 105,
   "metadata": {},
   "outputs": [
    {
     "data": {
      "text/plain": [
       "array([[ 2.97271725e+02, -8.88294339e+01,  1.44867523e+02, ...,\n",
       "         2.78572125e+00,  4.20252653e+00,  2.35418079e-13],\n",
       "       [-3.58517381e+02,  5.52152610e+01,  5.67254755e+02, ...,\n",
       "         2.22811010e+00, -1.44045415e-02,  2.35418079e-13],\n",
       "       [ 5.73431901e+02, -6.64943758e+01, -3.20024089e+02, ...,\n",
       "         1.78616011e+01, -1.41801290e+00,  2.35418079e-13],\n",
       "       ...,\n",
       "       [-2.11566127e+02,  3.93485004e+01,  2.93671450e+02, ...,\n",
       "         1.59519452e+00, -3.99872080e+00,  2.35418079e-13],\n",
       "       [ 3.92437290e+02,  8.55158897e+01,  4.51368082e+02, ...,\n",
       "         1.80394321e+00,  2.27803630e+00,  2.35418079e-13],\n",
       "       [ 8.09768777e+01,  1.56786850e+01, -2.20112090e+02, ...,\n",
       "        -4.51957115e+00,  3.43083011e+00,  2.35418079e-13]])"
      ]
     },
     "execution_count": 105,
     "metadata": {},
     "output_type": "execute_result"
    }
   ],
   "source": [
    "from sklearn.decomposition import PCA\n",
    "\n",
    "pca = PCA()\n",
    "pca.fit_transform(images_arrays) "
   ]
  },
  {
   "cell_type": "code",
   "execution_count": 106,
   "metadata": {},
   "outputs": [
    {
     "data": {
      "image/png": "[encoded data removed]",
      "text/plain": [
       "<Figure size 432x288 with 1 Axes>"
      ]
     },
     "metadata": {
      "needs_background": "light"
     },
     "output_type": "display_data"
    }
   ],
   "source": [
    "plt.plot(pca.explained_variance_ratio_,'+')\n",
    "plt.xlabel('Composante principale')\n",
    "plt.ylabel('\\% variance expliquee')\n",
    "plt.show()"
   ]
  },
  {
   "cell_type": "code",
   "execution_count": 107,
   "metadata": {},
   "outputs": [
    {
     "name": "stdout",
     "output_type": "stream",
     "text": [
      "300\n"
     ]
    }
   ],
   "source": [
    "print(len(pca.explained_variance_ratio_))"
   ]
  },
  {
   "cell_type": "code",
   "execution_count": 108,
   "metadata": {},
   "outputs": [
    {
     "data": {
      "text/plain": [
       "0.6915911271763453"
      ]
     },
     "execution_count": 108,
     "metadata": {},
     "output_type": "execute_result"
    }
   ],
   "source": [
    "sum(pca.explained_variance_ratio_[:20])"
   ]
  },
  {
   "cell_type": "code",
   "execution_count": 109,
   "metadata": {},
   "outputs": [
    {
     "data": {
      "text/plain": [
       "(300, 778688)"
      ]
     },
     "execution_count": 109,
     "metadata": {},
     "output_type": "execute_result"
    }
   ],
   "source": [
    "pca.components_.shape"
   ]
  },
  {
   "cell_type": "code",
   "execution_count": 110,
   "metadata": {},
   "outputs": [],
   "source": [
    "pca_X = pca.components_[:,:20]"
   ]
  },
  {
   "cell_type": "code",
   "execution_count": 111,
   "metadata": {},
   "outputs": [
    {
     "data": {
      "text/plain": [
       "(300, 20)"
      ]
     },
     "execution_count": 111,
     "metadata": {},
     "output_type": "execute_result"
    }
   ],
   "source": [
    "pca_X.shape"
   ]
  },
  {
   "cell_type": "code",
   "execution_count": 112,
   "metadata": {},
   "outputs": [],
   "source": [
    "from sklearn.model_selection import train_test_split\n",
    "y_train = output_train.SurvivalTime\n",
    "\n",
    "X_train, X_valid, y_train, y_valid = train_test_split(pca_X, y_train, test_size=0.3, random_state=3)"
   ]
  },
  {
   "cell_type": "code",
   "execution_count": 113,
   "metadata": {},
   "outputs": [
    {
     "name": "stdout",
     "output_type": "stream",
     "text": [
      "Training set R2 score : 0.08258382747408721\n",
      "Training set R2 score : -0.1272631146211085\n"
     ]
    }
   ],
   "source": [
    "reg = LinearRegression().fit(X_train, y_train)\n",
    "\n",
    "print(f\"Training set R2 score : {reg.score(X_train, y_train)}\")\n",
    "print(f\"Training set R2 score : {reg.score(X_valid, y_valid)}\")"
   ]
  },
  {
   "cell_type": "code",
   "execution_count": 114,
   "metadata": {},
   "outputs": [
    {
     "data": {
      "text/plain": [
       "-8.616899300820034"
      ]
     },
     "execution_count": 114,
     "metadata": {},
     "output_type": "execute_result"
    }
   ],
   "source": [
    "y_pred = reg.predict(X_valid)\n",
    "r2_score(y_pred, y_valid)"
   ]
  },
  {
   "cell_type": "code",
   "execution_count": 115,
   "metadata": {},
   "outputs": [
    {
     "name": "stdout",
     "output_type": "stream",
     "text": [
      "RMSE on Validation set : 707.7717692524049\n"
     ]
    }
   ],
   "source": [
    "ytrain_pred = reg.predict(X_train)\n",
    "\n",
    "print(f'RMSE on Training set : {np.sqrt(np.mean((ytrain_pred - y_train)**2))}')\n",
    "print(f'RMSE on Validation set : {np.sqrt(np.mean((y_pred - y_valid)**2))}')"
   ]
  },
  {
   "cell_type": "code",
   "execution_count": 116,
   "metadata": {},
   "outputs": [
    {
     "data": {
      "text/html": [
       "<div>\n",
       "<style scoped>\n",
       "    .dataframe tbody tr th:only-of-type {\n",
       "        vertical-align: middle;\n",
       "    }\n",
       "\n",
       "    .dataframe tbody tr th {\n",
       "        vertical-align: top;\n",
       "    }\n",
       "\n",
       "    .dataframe thead th {\n",
       "        text-align: right;\n",
       "    }\n",
       "</style>\n",
       "<table border=\"1\" class=\"dataframe\">\n",
       "  <thead>\n",
       "    <tr style=\"text-align: right;\">\n",
       "      <th></th>\n",
       "      <th>actual</th>\n",
       "      <th>predicted</th>\n",
       "    </tr>\n",
       "  </thead>\n",
       "  <tbody>\n",
       "    <tr>\n",
       "      <th>84</th>\n",
       "      <td>1280</td>\n",
       "      <td>955.434346</td>\n",
       "    </tr>\n",
       "    <tr>\n",
       "      <th>217</th>\n",
       "      <td>2240</td>\n",
       "      <td>581.038512</td>\n",
       "    </tr>\n",
       "    <tr>\n",
       "      <th>211</th>\n",
       "      <td>618</td>\n",
       "      <td>811.537415</td>\n",
       "    </tr>\n",
       "    <tr>\n",
       "      <th>286</th>\n",
       "      <td>1456</td>\n",
       "      <td>695.660906</td>\n",
       "    </tr>\n",
       "    <tr>\n",
       "      <th>31</th>\n",
       "      <td>582</td>\n",
       "      <td>657.494261</td>\n",
       "    </tr>\n",
       "    <tr>\n",
       "      <th>...</th>\n",
       "      <td>...</td>\n",
       "      <td>...</td>\n",
       "    </tr>\n",
       "    <tr>\n",
       "      <th>198</th>\n",
       "      <td>161</td>\n",
       "      <td>1598.919808</td>\n",
       "    </tr>\n",
       "    <tr>\n",
       "      <th>246</th>\n",
       "      <td>799</td>\n",
       "      <td>562.514422</td>\n",
       "    </tr>\n",
       "    <tr>\n",
       "      <th>292</th>\n",
       "      <td>2212</td>\n",
       "      <td>709.583790</td>\n",
       "    </tr>\n",
       "    <tr>\n",
       "      <th>101</th>\n",
       "      <td>456</td>\n",
       "      <td>992.326916</td>\n",
       "    </tr>\n",
       "    <tr>\n",
       "      <th>162</th>\n",
       "      <td>2176</td>\n",
       "      <td>875.734610</td>\n",
       "    </tr>\n",
       "  </tbody>\n",
       "</table>\n",
       "<p>90 rows × 2 columns</p>\n",
       "</div>"
      ],
      "text/plain": [
       "     actual    predicted\n",
       "84     1280   955.434346\n",
       "217    2240   581.038512\n",
       "211     618   811.537415\n",
       "286    1456   695.660906\n",
       "31      582   657.494261\n",
       "..      ...          ...\n",
       "198     161  1598.919808\n",
       "246     799   562.514422\n",
       "292    2212   709.583790\n",
       "101     456   992.326916\n",
       "162    2176   875.734610\n",
       "\n",
       "[90 rows x 2 columns]"
      ]
     },
     "execution_count": 116,
     "metadata": {},
     "output_type": "execute_result"
    }
   ],
   "source": [
    "data = {'actual':y_valid, 'predicted':y_pred}\n",
    "pd.DataFrame(data=data, columns = ['actual','predicted'])"
   ]
  },
  {
   "cell_type": "markdown",
   "metadata": {},
   "source": [
    "## Random forest after PCA"
   ]
  },
  {
   "cell_type": "code",
   "execution_count": 117,
   "metadata": {},
   "outputs": [],
   "source": [
    "from sklearn.ensemble import RandomForestRegressor\n",
    "\n",
    "regressor = RandomForestRegressor(n_estimators=100, random_state=0,max_depth = 2)\n",
    "regressor.fit(X_train, y_train)\n",
    "y_pred = regressor.predict(X_valid)"
   ]
  },
  {
   "cell_type": "code",
   "execution_count": 125,
   "metadata": {},
   "outputs": [],
   "source": [
    "y_pred = regressor.predict(X_valid)"
   ]
  },
  {
   "cell_type": "code",
   "execution_count": 128,
   "metadata": {},
   "outputs": [
    {
     "name": "stdout",
     "output_type": "stream",
     "text": [
      "RMSE on Training set : 678.1281713227494\n",
      "RMSE on Validation set : 687.7078822163244\n"
     ]
    }
   ],
   "source": [
    "ytrain_pred = regressor.predict(X_train)\n",
    "\n",
    "print(f'RMSE on Training set : {np.sqrt(np.mean((ytrain_pred - y_train)**2))}')\n",
    "print(f'RMSE on Validation set : {np.sqrt(np.mean((y_pred - y_valid)**2))}')"
   ]
  },
  {
   "cell_type": "code",
   "execution_count": 129,
   "metadata": {},
   "outputs": [
    {
     "name": "stdout",
     "output_type": "stream",
     "text": [
      " standard dev of y_valid : 666.6234512845084\n"
     ]
    }
   ],
   "source": [
    "print(f\" standard dev of y_valid : {np.std(y_valid)}\")"
   ]
  },
  {
   "cell_type": "code",
   "execution_count": 357,
   "metadata": {},
   "outputs": [
    {
     "data": {
      "text/html": [
       "<div>\n",
       "<style scoped>\n",
       "    .dataframe tbody tr th:only-of-type {\n",
       "        vertical-align: middle;\n",
       "    }\n",
       "\n",
       "    .dataframe tbody tr th {\n",
       "        vertical-align: top;\n",
       "    }\n",
       "\n",
       "    .dataframe thead th {\n",
       "        text-align: right;\n",
       "    }\n",
       "</style>\n",
       "<table border=\"1\" class=\"dataframe\">\n",
       "  <thead>\n",
       "    <tr style=\"text-align: right;\">\n",
       "      <th></th>\n",
       "      <th>actual</th>\n",
       "      <th>predicted</th>\n",
       "    </tr>\n",
       "  </thead>\n",
       "  <tbody>\n",
       "    <tr>\n",
       "      <th>84</th>\n",
       "      <td>1280</td>\n",
       "      <td>1049.822633</td>\n",
       "    </tr>\n",
       "    <tr>\n",
       "      <th>217</th>\n",
       "      <td>2240</td>\n",
       "      <td>878.592030</td>\n",
       "    </tr>\n",
       "    <tr>\n",
       "      <th>211</th>\n",
       "      <td>618</td>\n",
       "      <td>1026.567132</td>\n",
       "    </tr>\n",
       "    <tr>\n",
       "      <th>286</th>\n",
       "      <td>1456</td>\n",
       "      <td>867.540643</td>\n",
       "    </tr>\n",
       "    <tr>\n",
       "      <th>31</th>\n",
       "      <td>582</td>\n",
       "      <td>601.356783</td>\n",
       "    </tr>\n",
       "    <tr>\n",
       "      <th>...</th>\n",
       "      <td>...</td>\n",
       "      <td>...</td>\n",
       "    </tr>\n",
       "    <tr>\n",
       "      <th>198</th>\n",
       "      <td>161</td>\n",
       "      <td>1181.749662</td>\n",
       "    </tr>\n",
       "    <tr>\n",
       "      <th>246</th>\n",
       "      <td>799</td>\n",
       "      <td>664.982715</td>\n",
       "    </tr>\n",
       "    <tr>\n",
       "      <th>292</th>\n",
       "      <td>2212</td>\n",
       "      <td>861.302581</td>\n",
       "    </tr>\n",
       "    <tr>\n",
       "      <th>101</th>\n",
       "      <td>456</td>\n",
       "      <td>941.870282</td>\n",
       "    </tr>\n",
       "    <tr>\n",
       "      <th>162</th>\n",
       "      <td>2176</td>\n",
       "      <td>899.226633</td>\n",
       "    </tr>\n",
       "  </tbody>\n",
       "</table>\n",
       "<p>90 rows × 2 columns</p>\n",
       "</div>"
      ],
      "text/plain": [
       "     actual    predicted\n",
       "84     1280  1049.822633\n",
       "217    2240   878.592030\n",
       "211     618  1026.567132\n",
       "286    1456   867.540643\n",
       "31      582   601.356783\n",
       "..      ...          ...\n",
       "198     161  1181.749662\n",
       "246     799   664.982715\n",
       "292    2212   861.302581\n",
       "101     456   941.870282\n",
       "162    2176   899.226633\n",
       "\n",
       "[90 rows x 2 columns]"
      ]
     },
     "execution_count": 357,
     "metadata": {},
     "output_type": "execute_result"
    }
   ],
   "source": [
    "data = {'actual':y_valid, 'predicted':y_pred}\n",
    "pd.DataFrame(data=data, columns = ['actual','predicted'])"
   ]
  },
  {
   "cell_type": "markdown",
   "metadata": {},
   "source": [
    "## Keras CNN"
   ]
  },
  {
   "cell_type": "code",
   "execution_count": 26,
   "metadata": {},
   "outputs": [],
   "source": [
    "images = []\n",
    "\n",
    "for i in range(len(onlyfiles)):\n",
    "    archive = np.load(f'inputs/images/{onlyfiles[i]}')\n",
    "    scan = archive['scan']\n",
    "    images.append(scan)"
   ]
  },
  {
   "cell_type": "code",
   "execution_count": 28,
   "metadata": {},
   "outputs": [
    {
     "data": {
      "text/plain": [
       "(300, 92, 92, 92)"
      ]
     },
     "execution_count": 28,
     "metadata": {},
     "output_type": "execute_result"
    }
   ],
   "source": [
    "np.array(images).shape"
   ]
  },
  {
   "cell_type": "code",
   "execution_count": 387,
   "metadata": {},
   "outputs": [
    {
     "name": "stdout",
     "output_type": "stream",
     "text": [
      "(92, 92, 92)\n"
     ]
    }
   ],
   "source": [
    "print(images[0].shape)\n",
    "#images[0]"
   ]
  },
  {
   "cell_type": "code",
   "execution_count": 30,
   "metadata": {},
   "outputs": [],
   "source": [
    "from sklearn.model_selection import train_test_split\n",
    "\n",
    "y_train = output_train.SurvivalTime\n",
    "\n",
    "X_train, X_valid, y_train, y_valid = train_test_split(images, y_train, test_size=0.3, random_state=3)\n",
    "X_train = np.array(X_train)/np.max(X_train)\n",
    "X_valid = np.array(X_valid)/np.max(X_valid)"
   ]
  },
  {
   "cell_type": "code",
   "execution_count": 31,
   "metadata": {},
   "outputs": [],
   "source": [
    "import tensorflow as tf\n",
    "\n",
    "from tensorflow.keras import datasets, layers, models\n",
    "import matplotlib.pyplot as plt"
   ]
  },
  {
   "cell_type": "code",
   "execution_count": null,
   "metadata": {},
   "outputs": [],
   "source": [
    "def createModel():\n",
    "    model = models.Sequential()\n",
    "    model.add(layers.Conv2D(32, (3, 3), activation='relu', input_shape=(92, 92, 92)))\n",
    "    tf.keras.layers.BatchNormalization()\n",
    "    model.add(layers.MaxPooling2D((4, 4)))\n",
    "    tf.keras.layers.BatchNormalization()\n",
    "    model.add(layers.Conv2D(64, (5, 5), activation='relu'))\n",
    "    tf.keras.layers.BatchNormalization()\n",
    "    #model.add(layers.Conv2D(64, (5, 5), activation='relu'))\n",
    "    #tf.keras.layers.BatchNormalization()\n",
    "    model.add(layers.MaxPooling2D((4, 4)))\n",
    "    tf.keras.layers.BatchNormalization()\n",
    "    model.add(layers.Flatten())\n",
    "    model.add(layers.Dense(256,activation='relu'))\n",
    "    tf.keras.layers.BatchNormalization()\n",
    "    model.add(layers.Dense(128,activation='relu'))\n",
    "    tf.keras.layers.BatchNormalization()\n",
    "    model.add(layers.Dense(64,activation='relu'))\n",
    "    tf.keras.layers.BatchNormalization()\n",
    "    model.add(layers.Dense(32,activation='relu')\n",
    "    tf.keras.layers.BatchNormalization()\n",
    "    model.add(layers.Dense(1))\n",
    "    #model.summary()\n",
    "    \n",
    "    #optimizer = SGD(lr=0.01, momentum=0.9, clipvalue=1.0)\n",
    "    model.compile(loss='mse', optimizer='adam', metrics=['mse'])\n",
    "\n",
    "    return model\n",
    "\n",
    "model = createModel()"
   ]
  },
  {
   "cell_type": "markdown",
   "metadata": {},
   "source": [
    "## TRYING OUT MANY CNN STRUCTURES - TATONNEMENT"
   ]
  },
  {
   "cell_type": "markdown",
   "metadata": {},
   "source": [
    "### RMSE = SQUARE ROOT OF THE SMALLEST val_loss FOUND BY CNN ?"
   ]
  },
  {
   "cell_type": "code",
   "execution_count": 75,
   "metadata": {
    "scrolled": true
   },
   "outputs": [
    {
     "name": "stdout",
     "output_type": "stream",
     "text": [
      "Model: \"sequential_15\"\n",
      "_________________________________________________________________\n",
      "Layer (type)                 Output Shape              Param #   \n",
      "=================================================================\n",
      "conv2d_60 (Conv2D)           (None, 90, 90, 32)        26528     \n",
      "_________________________________________________________________\n",
      "max_pooling2d_28 (MaxPooling (None, 22, 22, 32)        0         \n",
      "_________________________________________________________________\n",
      "conv2d_61 (Conv2D)           (None, 20, 20, 64)        18496     \n",
      "_________________________________________________________________\n",
      "max_pooling2d_29 (MaxPooling (None, 5, 5, 64)          0         \n",
      "_________________________________________________________________\n",
      "flatten_14 (Flatten)         (None, 1600)              0         \n",
      "_________________________________________________________________\n",
      "dense_55 (Dense)             (None, 128)               204928    \n",
      "_________________________________________________________________\n",
      "dense_56 (Dense)             (None, 32)                4128      \n",
      "_________________________________________________________________\n",
      "dense_57 (Dense)             (None, 1)                 33        \n",
      "=================================================================\n",
      "Total params: 254,113\n",
      "Trainable params: 254,113\n",
      "Non-trainable params: 0\n",
      "_________________________________________________________________\n"
     ]
    }
   ],
   "source": [
    "model = models.Sequential()\n",
    "model.add(layers.Conv2D(32, (3, 3), activation='relu', input_shape=(92, 92, 92)))\n",
    "tf.keras.layers.BatchNormalization()\n",
    "model.add(layers.MaxPooling2D((4, 4)))\n",
    "tf.keras.layers.BatchNormalization()\n",
    "model.add(layers.Conv2D(64, (3, 3), activation='relu'))\n",
    "tf.keras.layers.BatchNormalization()\n",
    "#model.add(layers.Conv2D(64, (5, 5), activation='relu'))\n",
    "#tf.keras.layers.BatchNormalization()\n",
    "model.add(layers.MaxPooling2D((4, 4)))\n",
    "tf.keras.layers.BatchNormalization()\n",
    "model.add(layers.Flatten())\n",
    "model.add(layers.Dense(128, activation='relu'))\n",
    "tf.keras.layers.BatchNormalization()\n",
    "model.add(layers.Dense(32, activation='relu'))\n",
    "tf.keras.layers.BatchNormalization()\n",
    "model.add(layers.Dense(1))\n",
    "\n",
    "model.summary()"
   ]
  },
  {
   "cell_type": "code",
   "execution_count": 76,
   "metadata": {},
   "outputs": [
    {
     "name": "stdout",
     "output_type": "stream",
     "text": [
      "Epoch 1/10\n",
      "53/53 [==============================] - 4s 78ms/step - loss: 813691.0000 - mse: 813691.0000 - val_loss: 490093.6562 - val_mse: 490093.6562\n",
      "Epoch 2/10\n",
      "53/53 [==============================] - 4s 70ms/step - loss: 659354.8125 - mse: 659354.8125 - val_loss: 460982.3438 - val_mse: 460982.3438\n",
      "Epoch 3/10\n",
      "53/53 [==============================] - 4s 70ms/step - loss: 615414.1875 - mse: 615414.1875 - val_loss: 443765.5938 - val_mse: 443765.5938\n",
      "Epoch 4/10\n",
      "53/53 [==============================] - 4s 71ms/step - loss: 597271.8750 - mse: 597271.8750 - val_loss: 491806.6250 - val_mse: 491806.6250\n",
      "Epoch 5/10\n",
      "53/53 [==============================] - 4s 72ms/step - loss: 600394.8750 - mse: 600394.8750 - val_loss: 492500.7500 - val_mse: 492500.7500\n",
      "Epoch 6/10\n",
      "53/53 [==============================] - 4s 70ms/step - loss: 597160.0625 - mse: 597160.0625 - val_loss: 454509.9062 - val_mse: 454509.9062\n",
      "Epoch 7/10\n",
      "53/53 [==============================] - 4s 73ms/step - loss: 601080.5625 - mse: 601080.5625 - val_loss: 471085.7812 - val_mse: 471085.7812\n",
      "Epoch 8/10\n",
      "53/53 [==============================] - 4s 73ms/step - loss: 570427.4375 - mse: 570427.4375 - val_loss: 458376.8438 - val_mse: 458376.8438\n",
      "Epoch 9/10\n",
      "53/53 [==============================] - 4s 73ms/step - loss: 531906.3125 - mse: 531906.3125 - val_loss: 459388.9375 - val_mse: 459388.9375\n",
      "Epoch 10/10\n",
      "53/53 [==============================] - 4s 74ms/step - loss: 559965.6875 - mse: 559965.6875 - val_loss: 504377.5625 - val_mse: 504377.5625\n"
     ]
    }
   ],
   "source": [
    "model.compile(loss='mse', optimizer='adam', metrics=['mse'])\n",
    "history = model.fit(X_train, y_train, epochs=10, validation_data=(X_valid, y_valid), batch_size = 4) "
   ]
  },
  {
   "cell_type": "code",
   "execution_count": 77,
   "metadata": {},
   "outputs": [
    {
     "name": "stdout",
     "output_type": "stream",
     "text": [
      "Model: \"sequential_16\"\n",
      "_________________________________________________________________\n",
      "Layer (type)                 Output Shape              Param #   \n",
      "=================================================================\n",
      "conv2d_62 (Conv2D)           (None, 90, 90, 32)        26528     \n",
      "_________________________________________________________________\n",
      "max_pooling2d_30 (MaxPooling (None, 22, 22, 32)        0         \n",
      "_________________________________________________________________\n",
      "conv2d_63 (Conv2D)           (None, 20, 20, 64)        18496     \n",
      "_________________________________________________________________\n",
      "conv2d_64 (Conv2D)           (None, 18, 18, 128)       73856     \n",
      "_________________________________________________________________\n",
      "max_pooling2d_31 (MaxPooling (None, 4, 4, 128)         0         \n",
      "_________________________________________________________________\n",
      "flatten_15 (Flatten)         (None, 2048)              0         \n",
      "_________________________________________________________________\n",
      "dense_58 (Dense)             (None, 128)               262272    \n",
      "_________________________________________________________________\n",
      "dense_59 (Dense)             (None, 32)                4128      \n",
      "_________________________________________________________________\n",
      "dense_60 (Dense)             (None, 1)                 33        \n",
      "=================================================================\n",
      "Total params: 385,313\n",
      "Trainable params: 385,313\n",
      "Non-trainable params: 0\n",
      "_________________________________________________________________\n"
     ]
    }
   ],
   "source": [
    "model = models.Sequential()\n",
    "model.add(layers.Conv2D(32, (3, 3), activation='relu', input_shape=(92, 92, 92)))\n",
    "tf.keras.layers.BatchNormalization()\n",
    "model.add(layers.MaxPooling2D((4, 4)))\n",
    "tf.keras.layers.BatchNormalization()\n",
    "model.add(layers.Conv2D(64, (3, 3), activation='relu'))\n",
    "tf.keras.layers.BatchNormalization()\n",
    "model.add(layers.Conv2D(128, (3, 3), activation='relu'))\n",
    "tf.keras.layers.BatchNormalization()\n",
    "model.add(layers.MaxPooling2D((4, 4)))\n",
    "tf.keras.layers.BatchNormalization()\n",
    "model.add(layers.Flatten())\n",
    "model.add(layers.Dense(128, activation='relu'))\n",
    "tf.keras.layers.BatchNormalization()\n",
    "model.add(layers.Dense(32, activation='relu'))\n",
    "tf.keras.layers.BatchNormalization()\n",
    "model.add(layers.Dense(1))\n",
    "\n",
    "model.summary()"
   ]
  },
  {
   "cell_type": "code",
   "execution_count": 78,
   "metadata": {},
   "outputs": [
    {
     "name": "stdout",
     "output_type": "stream",
     "text": [
      "Epoch 1/10\n",
      "53/53 [==============================] - 6s 109ms/step - loss: 851850.4375 - mse: 851850.4375 - val_loss: 472605.2500 - val_mse: 472605.2500\n",
      "Epoch 2/10\n",
      "53/53 [==============================] - 5s 99ms/step - loss: 671443.6875 - mse: 671443.6875 - val_loss: 449986.0312 - val_mse: 449986.0312\n",
      "Epoch 3/10\n",
      "53/53 [==============================] - 6s 104ms/step - loss: 643053.1250 - mse: 643053.1250 - val_loss: 598189.4375 - val_mse: 598189.4375\n",
      "Epoch 4/10\n",
      "53/53 [==============================] - 5s 102ms/step - loss: 597195.0000 - mse: 597195.0000 - val_loss: 469557.0312 - val_mse: 469557.0312\n",
      "Epoch 5/10\n",
      "53/53 [==============================] - 6s 112ms/step - loss: 715265.0000 - mse: 715265.0000 - val_loss: 565237.9375 - val_mse: 565237.9375\n",
      "Epoch 6/10\n",
      "53/53 [==============================] - 5s 97ms/step - loss: 641476.5000 - mse: 641476.5000 - val_loss: 467440.5312 - val_mse: 467440.5312\n",
      "Epoch 7/10\n",
      "53/53 [==============================] - 5s 98ms/step - loss: 579714.1250 - mse: 579714.1250 - val_loss: 479814.2812 - val_mse: 479814.2812\n",
      "Epoch 8/10\n",
      "53/53 [==============================] - 5s 93ms/step - loss: 569234.7500 - mse: 569234.7500 - val_loss: 482255.1562 - val_mse: 482255.1562\n",
      "Epoch 9/10\n",
      "53/53 [==============================] - 6s 105ms/step - loss: 594491.0000 - mse: 594491.0000 - val_loss: 556542.7500 - val_mse: 556542.7500\n",
      "Epoch 10/10\n",
      "53/53 [==============================] - 5s 95ms/step - loss: 596307.5000 - mse: 596307.5000 - val_loss: 516405.9688 - val_mse: 516405.9688\n"
     ]
    }
   ],
   "source": [
    "model.compile(loss='mse', optimizer='adam', metrics=['mse'])\n",
    "history = model.fit(X_train, y_train, epochs=10, validation_data=(X_valid, y_valid), batch_size = 4) "
   ]
  },
  {
   "cell_type": "code",
   "execution_count": 71,
   "metadata": {},
   "outputs": [
    {
     "name": "stdout",
     "output_type": "stream",
     "text": [
      "Model: \"sequential_13\"\n",
      "_________________________________________________________________\n",
      "Layer (type)                 Output Shape              Param #   \n",
      "=================================================================\n",
      "conv2d_51 (Conv2D)           (None, 43, 43, 64)        288576    \n",
      "_________________________________________________________________\n",
      "max_pooling2d_24 (MaxPooling (None, 20, 20, 64)        0         \n",
      "_________________________________________________________________\n",
      "conv2d_52 (Conv2D)           (None, 20, 20, 64)        4160      \n",
      "_________________________________________________________________\n",
      "conv2d_53 (Conv2D)           (None, 18, 18, 64)        36928     \n",
      "_________________________________________________________________\n",
      "conv2d_54 (Conv2D)           (None, 18, 18, 128)       8320      \n",
      "_________________________________________________________________\n",
      "conv2d_55 (Conv2D)           (None, 16, 16, 256)       295168    \n",
      "_________________________________________________________________\n",
      "conv2d_56 (Conv2D)           (None, 14, 14, 512)       1180160   \n",
      "_________________________________________________________________\n",
      "conv2d_57 (Conv2D)           (None, 14, 14, 1024)      525312    \n",
      "_________________________________________________________________\n",
      "max_pooling2d_25 (MaxPooling (None, 3, 3, 1024)        0         \n",
      "_________________________________________________________________\n",
      "flatten_12 (Flatten)         (None, 9216)              0         \n",
      "_________________________________________________________________\n",
      "dense_47 (Dense)             (None, 128)               1179776   \n",
      "_________________________________________________________________\n",
      "dense_48 (Dense)             (None, 32)                4128      \n",
      "_________________________________________________________________\n",
      "dense_49 (Dense)             (None, 1)                 33        \n",
      "=================================================================\n",
      "Total params: 3,522,561\n",
      "Trainable params: 3,522,561\n",
      "Non-trainable params: 0\n",
      "_________________________________________________________________\n"
     ]
    }
   ],
   "source": [
    "model = models.Sequential()\n",
    "model.add(layers.Conv2D(64, (7, 7), activation='relu', input_shape=(92, 92, 92), strides = 2))\n",
    "tf.keras.layers.BatchNormalization()\n",
    "model.add(layers.MaxPooling2D((4, 4), strides = 2))\n",
    "tf.keras.layers.BatchNormalization()\n",
    "model.add(layers.Conv2D(64, (1, 1), activation='relu'))\n",
    "tf.keras.layers.BatchNormalization()\n",
    "model.add(layers.Conv2D(64, (3, 3), activation='relu'))\n",
    "tf.keras.layers.BatchNormalization()\n",
    "model.add(layers.Conv2D(128, (1, 1), activation='relu'))\n",
    "tf.keras.layers.BatchNormalization()\n",
    "model.add(layers.Conv2D(256, (3, 3), activation='relu'))\n",
    "tf.keras.layers.BatchNormalization()\n",
    "model.add(layers.Conv2D(512, (3, 3), activation='relu'))\n",
    "tf.keras.layers.BatchNormalization()\n",
    "model.add(layers.Conv2D(1024, (1, 1), activation='relu'))\n",
    "tf.keras.layers.BatchNormalization()\n",
    "model.add(layers.MaxPooling2D((4, 4)))\n",
    "tf.keras.layers.BatchNormalization()\n",
    "model.add(layers.Flatten())\n",
    "\n",
    "\n",
    "model.add(layers.Dense(128,activation='relu'))\n",
    "tf.keras.layers.BatchNormalization()\n",
    "\n",
    "model.add(layers.Dense(32,activation='relu'))\n",
    "tf.keras.layers.BatchNormalization()\n",
    "model.add(layers.Dense(1))\n",
    "\n",
    "model.summary()"
   ]
  },
  {
   "cell_type": "code",
   "execution_count": 69,
   "metadata": {},
   "outputs": [
    {
     "name": "stdout",
     "output_type": "stream",
     "text": [
      "Epoch 1/10\n",
      "53/53 [==============================] - 12s 219ms/step - loss: 884405.8125 - mse: 884405.8125 - val_loss: 827964.5625 - val_mse: 827964.5625\n",
      "Epoch 2/10\n",
      "53/53 [==============================] - 13s 239ms/step - loss: 772241.4375 - mse: 772241.4375 - val_loss: 495205.0625 - val_mse: 495205.0625\n",
      "Epoch 3/10\n",
      "53/53 [==============================] - 11s 217ms/step - loss: 681413.8750 - mse: 681413.8750 - val_loss: 764825.2500 - val_mse: 764825.2500\n",
      "Epoch 4/10\n",
      "53/53 [==============================] - 11s 216ms/step - loss: 815184.0625 - mse: 815184.0625 - val_loss: 455858.3438 - val_mse: 455858.3438\n",
      "Epoch 5/10\n",
      "53/53 [==============================] - 12s 218ms/step - loss: 703490.8125 - mse: 703490.8125 - val_loss: 536669.1875 - val_mse: 536669.1875\n",
      "Epoch 6/10\n",
      "53/53 [==============================] - 12s 229ms/step - loss: 650496.5625 - mse: 650496.5625 - val_loss: 543545.0000 - val_mse: 543545.0000\n",
      "Epoch 7/10\n",
      "53/53 [==============================] - 12s 218ms/step - loss: 607015.2500 - mse: 607015.2500 - val_loss: 504623.5625 - val_mse: 504623.5625\n",
      "Epoch 8/10\n",
      "53/53 [==============================] - 12s 218ms/step - loss: 576760.6875 - mse: 576760.6875 - val_loss: 499702.4375 - val_mse: 499702.4375\n",
      "Epoch 9/10\n",
      "53/53 [==============================] - 13s 240ms/step - loss: 566189.1250 - mse: 566189.1250 - val_loss: 498957.8125 - val_mse: 498957.8125\n",
      "Epoch 10/10\n",
      "53/53 [==============================] - 12s 232ms/step - loss: 608817.6875 - mse: 608817.6875 - val_loss: 560825.1250 - val_mse: 560825.1250\n"
     ]
    }
   ],
   "source": [
    "#from keras.optimizers import SGD \n",
    "\n",
    "#optimizer = SGD(lr=0.01, momentum=0.9, clipvalue=1.0)\n",
    "#model.compile(optimizer=optimizer, loss=tf.keras.losses.MeanSquaredError())\n",
    "checkpoint_filepath = '/checkpoint'\n",
    "model_checkpoint_callback = tf.keras.callbacks.ModelCheckpoint(\n",
    "    filepath=checkpoint_filepath,\n",
    "    save_weights_only=True,\n",
    "    monitor='val_loss',\n",
    "    mode='max',\n",
    "    save_best_only=True)\n",
    "model.compile(loss='mse', optimizer='adam', metrics=['mse'])\n",
    "history = model.fit(X_train, y_train, epochs=10, validation_data=(X_valid, y_valid), batch_size = 4)\n",
    "\n",
    "#model.load_weights(checkpoint_filepath)\n"
   ]
  },
  {
   "cell_type": "code",
   "execution_count": null,
   "metadata": {},
   "outputs": [],
   "source": []
  },
  {
   "cell_type": "code",
   "execution_count": null,
   "metadata": {},
   "outputs": [],
   "source": []
  }
 ],
 "metadata": {
  "kernelspec": {
   "display_name": "Python 3",
   "language": "python",
   "name": "python3"
  },
  "language_info": {
   "codemirror_mode": {
    "name": "ipython",
    "version": 3
   },
   "file_extension": ".py",
   "mimetype": "text/x-python",
   "name": "python",
   "nbconvert_exporter": "python",
   "pygments_lexer": "ipython3",
   "version": "3.7.6"
  }
 },
 "nbformat": 4,
 "nbformat_minor": 4
}
